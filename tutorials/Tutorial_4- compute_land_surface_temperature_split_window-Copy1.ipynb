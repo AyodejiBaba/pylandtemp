{
 "cells": [
  {
   "cell_type": "code",
   "execution_count": 1,
   "metadata": {},
   "outputs": [],
   "source": [
    "import os, sys\n",
    "sys.path.append('/Users/dimeji/Documents/Projects/geo_earth_temp/getemp')"
   ]
  },
  {
   "cell_type": "markdown",
   "metadata": {},
   "source": [
    "# 1.  Import python dependencies"
   ]
  },
  {
   "cell_type": "code",
   "execution_count": 2,
   "metadata": {},
   "outputs": [],
   "source": [
    "import numpy as np\n",
    "import matplotlib.pyplot as plt\n",
    "import rasterio.plot\n",
    "import rasterio"
   ]
  },
  {
   "cell_type": "markdown",
   "metadata": {},
   "source": [
    "# 2. Location"
   ]
  },
  {
   "cell_type": "markdown",
   "metadata": {},
   "source": [
    "For this tutorial, we’ll use the NIR and Red bands from a Landsat-8 scene above part of the central valley and the Sierra Nevada in California. We’ll be using Level 1TP datasets, orthorectified, map-projected images containing radiometrically calibrated data."
   ]
  },
  {
   "cell_type": "markdown",
   "metadata": {},
   "source": [
    "# 3. Bands needed from land surface temperature computation (Split window)\n",
    "- Red: Band 4\n",
    "- Near-Infrared (NIR): Band 5\n",
    "- Thermal infrared 1: Band 10\n",
    "- Thermal infrared 2: Band 11\n",
    "\n",
    "Here, I have used `rasterio` to load the images/bands needed."
   ]
  },
  {
   "cell_type": "code",
   "execution_count": 3,
   "metadata": {},
   "outputs": [],
   "source": [
    "url = 'http://landsat-pds.s3.amazonaws.com/c1/L8/042/034/LC08_L1TP_042034_20170616_20170629_01_T1/'\n",
    "#url = 'https://storage.googleapis.com/gcp-public-data-landsat/LC08/01/042/034/LC08_L1TP_042034_20170616_20170629_01_T1/'\n",
    "redband = 'LC08_L1TP_042034_20170616_20170629_01_T1_B{}.TIF'.format(4) # L1TP_216074_20160531_20180528_01_T1_B4.TIF'\n",
    "nirband = 'LC08_L1TP_042034_20170616_20170629_01_T1_B{}.TIF'.format(5)\n",
    "tempband10 = 'LC08_L1TP_042034_20170616_20170629_01_T1_B{}.TIF'.format(10)\n",
    "tempband11 = 'LC08_L1TP_042034_20170616_20170629_01_T1_B{}.TIF'.format(11)"
   ]
  },
  {
   "cell_type": "code",
   "execution_count": 4,
   "metadata": {},
   "outputs": [],
   "source": [
    "#with rasterio.open(url+redband) as src:\n",
    "#    redImage = src.read(1).astype('f4')\n",
    "#\n",
    "#with rasterio.open(url+nirband) as src:\n",
    "#    nirImage = src.read(1).astype('f4')\n",
    "#    \n",
    "#with rasterio.open(url+tempband10) as src:\n",
    "#    tempImage10 = src.read(1).astype('f4')\n",
    "#\n",
    "#with rasterio.open(url+tempband11) as src:\n",
    "#    tempImage11 = src.read(1).astype('f4')"
   ]
  },
  {
   "cell_type": "markdown",
   "metadata": {},
   "source": [
    "# 8. Compute land surface temperature"
   ]
  },
  {
   "cell_type": "code",
   "execution_count": 5,
   "metadata": {},
   "outputs": [],
   "source": [
    "import numpy as np"
   ]
  },
  {
   "cell_type": "code",
   "execution_count": 16,
   "metadata": {},
   "outputs": [],
   "source": [
    "class KeywordArgumentError(Exception):\n",
    "    pass\n",
    "\n",
    "\n",
    "def assert_all_keywords_are_provided(keywords=None, **kwargs):\n",
    "    for keyword in keywords:\n",
    "        if keyword not in kwargs:\n",
    "            message = f\"Keyword argument {keyword} must be providedfor this computation \"\n",
    "            raise KeywordArgumentError(message)"
   ]
  },
  {
   "cell_type": "code",
   "execution_count": 17,
   "metadata": {},
   "outputs": [],
   "source": [
    "class SplitWindowParentLST:\n",
    "\n",
    "    # A comparison of all the methods can be found here:\n",
    "    # https://link.springer.com/article/10.1007/s40808-020-01007-1/tables/3\n",
    "\n",
    "    def __init__(self):\n",
    "        self.max_earth_temp = 273.15 + 56.7\n",
    "\n",
    "    def __call__(self, **kwargs) -> np.ndarray:\n",
    "        lst = self._compute_lst(**kwargs)\n",
    "        lst[lst > self.max_earth_temp] = np.nan\n",
    "        return lst\n",
    "\n",
    "    def _compute_lst(self, **kwargs):\n",
    "        raise NotImplementedError(\"Concrete method yet to be implemented\")\n",
    "        \n",
    "class SplitWindowJiminezMunozLST(SplitWindowParentLST):\n",
    "    cwv = 0.013\n",
    "\n",
    "    \"\"\"\n",
    "    Method reference:\n",
    "\n",
    "    Jiménez-Muñoz, Juan-Carlos, and José A. Sobrino. \"Split-window coefficients for land surface\n",
    "    temperature retrieval from low-resolution thermal infrared sensors.\" IEEE geoscience and\n",
    "    remote sensing letters 5.4 (2008): 806-809.\n",
    "\n",
    "    \"\"\"\n",
    "\n",
    "    def _compute_lst(self, **kwargs) -> np.ndarray:\n",
    "        \"\"\"Computes the LST\n",
    "\n",
    "        kwargs:\n",
    "\n",
    "        **emissivity_10 (np.ndarray): Emissivity image obtained for band 10\n",
    "        **emissivity_11 (np.ndarray): Emissivity image obtained for band 11\n",
    "        **brightness_temperature_10 (np.ndarray): Brightness temperature image obtained for band 10\n",
    "        **brightness_temperature_11 (np.ndarray): Brightness temperature image obtained for band 11\n",
    "        **mask (np.ndarray[bool]): Mask image. Output will have NaN value where mask is True.\n",
    "\n",
    "        Returns:\n",
    "            np.ndarray: Land surface temperature image\n",
    "        \"\"\"\n",
    "\n",
    "        assert_all_keywords_are_provided(\n",
    "            [\n",
    "                \"emissivity_10\",\n",
    "                \"emissivity_11\",\n",
    "                \"brightness_temperature_10\",\n",
    "                \"brightness_temperature_11\",\n",
    "                \"mask\",\n",
    "            ],\n",
    "            **kwargs\n",
    "        )\n",
    "\n",
    "        tb_10 = kwargs[\"brightness_temperature_10\"]\n",
    "        tb_11 = kwargs[\"brightness_temperature_11\"]\n",
    "        emissivity_10 = kwargs[\"emissivity_10\"]\n",
    "        emissivity_11 = kwargs[\"emissivity_11\"]\n",
    "        mask = kwargs[\"mask\"]\n",
    "\n",
    "        mean_e = (emissivity_10 + emissivity_11) / 2\n",
    "        diff_e = emissivity_10 - emissivity_11\n",
    "        diff_tb = tb_10 - tb_11\n",
    "\n",
    "        lst = (\n",
    "            tb_10\n",
    "            + (1.387 * diff_tb)\n",
    "            + (0.183 * (diff_tb ** 2))\n",
    "            - 0.268\n",
    "            + ((54.3 - (2.238 * self.cwv)) * (1 - mean_e))\n",
    "            + ((-129.2 + (16.4 * self.cwv)) * diff_e)\n",
    "        )\n",
    "        lst[mask] = np.nan\n",
    "        return lst"
   ]
  },
  {
   "cell_type": "code",
   "execution_count": 21,
   "metadata": {},
   "outputs": [],
   "source": [
    "emissivity = np.random.randn(50, 50)"
   ]
  },
  {
   "cell_type": "code",
   "execution_count": 22,
   "metadata": {},
   "outputs": [
    {
     "data": {
      "text/plain": [
       "(50, 50)"
      ]
     },
     "execution_count": 22,
     "metadata": {},
     "output_type": "execute_result"
    }
   ],
   "source": [
    "emissivity.shape"
   ]
  },
  {
   "cell_type": "code",
   "execution_count": 23,
   "metadata": {},
   "outputs": [],
   "source": [
    "mask = emissivity < 0.5"
   ]
  },
  {
   "cell_type": "code",
   "execution_count": 26,
   "metadata": {},
   "outputs": [],
   "source": [
    "if mask.dtype != 'bool':\n",
    "    print('yaay')"
   ]
  },
  {
   "cell_type": "code",
   "execution_count": 20,
   "metadata": {},
   "outputs": [
    {
     "ename": "KeywordArgumentError",
     "evalue": "Keyword arg brightness_temperature_10 should be provided",
     "output_type": "error",
     "traceback": [
      "\u001b[0;31m---------------------------------------------------------------------------\u001b[0m",
      "\u001b[0;31mKeywordArgumentError\u001b[0m                      Traceback (most recent call last)",
      "\u001b[0;32m<ipython-input-20-8124a61f1a5d>\u001b[0m in \u001b[0;36m<module>\u001b[0;34m\u001b[0m\n\u001b[0;32m----> 1\u001b[0;31m \u001b[0mlst\u001b[0m \u001b[0;34m=\u001b[0m \u001b[0mSplitWindowJiminezMunozLST\u001b[0m\u001b[0;34m(\u001b[0m\u001b[0;34m)\u001b[0m\u001b[0;34m(\u001b[0m\u001b[0memissivity_10\u001b[0m\u001b[0;34m=\u001b[0m\u001b[0memissivity\u001b[0m\u001b[0;34m,\u001b[0m \u001b[0memissivity_11\u001b[0m\u001b[0;34m=\u001b[0m\u001b[0memissivity\u001b[0m\u001b[0;34m)\u001b[0m\u001b[0;34m\u001b[0m\u001b[0;34m\u001b[0m\u001b[0m\n\u001b[0m",
      "\u001b[0;32m<ipython-input-17-d673fe86e253>\u001b[0m in \u001b[0;36m__call__\u001b[0;34m(self, **kwargs)\u001b[0m\n\u001b[1;32m      8\u001b[0m \u001b[0;34m\u001b[0m\u001b[0m\n\u001b[1;32m      9\u001b[0m     \u001b[0;32mdef\u001b[0m \u001b[0m__call__\u001b[0m\u001b[0;34m(\u001b[0m\u001b[0mself\u001b[0m\u001b[0;34m,\u001b[0m \u001b[0;34m**\u001b[0m\u001b[0mkwargs\u001b[0m\u001b[0;34m)\u001b[0m \u001b[0;34m->\u001b[0m \u001b[0mnp\u001b[0m\u001b[0;34m.\u001b[0m\u001b[0mndarray\u001b[0m\u001b[0;34m:\u001b[0m\u001b[0;34m\u001b[0m\u001b[0;34m\u001b[0m\u001b[0m\n\u001b[0;32m---> 10\u001b[0;31m         \u001b[0mlst\u001b[0m \u001b[0;34m=\u001b[0m \u001b[0mself\u001b[0m\u001b[0;34m.\u001b[0m\u001b[0m_compute_lst\u001b[0m\u001b[0;34m(\u001b[0m\u001b[0;34m**\u001b[0m\u001b[0mkwargs\u001b[0m\u001b[0;34m)\u001b[0m\u001b[0;34m\u001b[0m\u001b[0;34m\u001b[0m\u001b[0m\n\u001b[0m\u001b[1;32m     11\u001b[0m         \u001b[0mlst\u001b[0m\u001b[0;34m[\u001b[0m\u001b[0mlst\u001b[0m \u001b[0;34m>\u001b[0m \u001b[0mself\u001b[0m\u001b[0;34m.\u001b[0m\u001b[0mmax_earth_temp\u001b[0m\u001b[0;34m]\u001b[0m \u001b[0;34m=\u001b[0m \u001b[0mnp\u001b[0m\u001b[0;34m.\u001b[0m\u001b[0mnan\u001b[0m\u001b[0;34m\u001b[0m\u001b[0;34m\u001b[0m\u001b[0m\n\u001b[1;32m     12\u001b[0m         \u001b[0;32mreturn\u001b[0m \u001b[0mlst\u001b[0m\u001b[0;34m\u001b[0m\u001b[0;34m\u001b[0m\u001b[0m\n",
      "\u001b[0;32m<ipython-input-17-d673fe86e253>\u001b[0m in \u001b[0;36m_compute_lst\u001b[0;34m(self, **kwargs)\u001b[0m\n\u001b[1;32m     42\u001b[0m         \"\"\"\n\u001b[1;32m     43\u001b[0m \u001b[0;34m\u001b[0m\u001b[0m\n\u001b[0;32m---> 44\u001b[0;31m         assert_all_keywords_are_provided(\n\u001b[0m\u001b[1;32m     45\u001b[0m             [\n\u001b[1;32m     46\u001b[0m                 \u001b[0;34m\"emissivity_10\"\u001b[0m\u001b[0;34m,\u001b[0m\u001b[0;34m\u001b[0m\u001b[0;34m\u001b[0m\u001b[0m\n",
      "\u001b[0;32m<ipython-input-16-3f98101afe2a>\u001b[0m in \u001b[0;36massert_all_keywords_are_provided\u001b[0;34m(keywords, **kwargs)\u001b[0m\n\u001b[1;32m      7\u001b[0m         \u001b[0;32mif\u001b[0m \u001b[0mkeyword\u001b[0m \u001b[0;32mnot\u001b[0m \u001b[0;32min\u001b[0m \u001b[0mkwargs\u001b[0m\u001b[0;34m:\u001b[0m\u001b[0;34m\u001b[0m\u001b[0;34m\u001b[0m\u001b[0m\n\u001b[1;32m      8\u001b[0m             \u001b[0mmessage\u001b[0m \u001b[0;34m=\u001b[0m \u001b[0;34mf\"Keyword arg {keyword} should be provided\"\u001b[0m\u001b[0;34m\u001b[0m\u001b[0;34m\u001b[0m\u001b[0m\n\u001b[0;32m----> 9\u001b[0;31m             \u001b[0;32mraise\u001b[0m \u001b[0mKeywordArgumentError\u001b[0m\u001b[0;34m(\u001b[0m\u001b[0mmessage\u001b[0m\u001b[0;34m)\u001b[0m\u001b[0;34m\u001b[0m\u001b[0;34m\u001b[0m\u001b[0m\n\u001b[0m",
      "\u001b[0;31mKeywordArgumentError\u001b[0m: Keyword arg brightness_temperature_10 should be provided"
     ]
    }
   ],
   "source": [
    "lst = SplitWindowJiminezMunozLST()(\n",
    "    emissivity_10=emissivity,\n",
    "    emissivity_11=emissivity, \n",
    "    brightness_temperature_10=emissivity\n",
    "    brightness_temperature_10=emissivity\n",
    "    brightness_temperature_10=emissivity\n",
    ")"
   ]
  },
  {
   "cell_type": "markdown",
   "metadata": {},
   "source": [
    "##### Visualize the  Land Surface Temperature obtained"
   ]
  },
  {
   "cell_type": "code",
   "execution_count": null,
   "metadata": {},
   "outputs": [],
   "source": [
    "plt.imshow(lst_image_split_window)\n",
    "plt.colorbar()\n",
    "plt.title('{}\\n LST in Celcius {}'.format(f'{method} method', lst_image_split_window.shape))\n",
    "plt.xlabel('Column #')\n",
    "plt.ylabel('Row #')\n",
    "plt.show()"
   ]
  }
 ],
 "metadata": {
  "kernelspec": {
   "display_name": "Python 3",
   "language": "python",
   "name": "python3"
  },
  "language_info": {
   "codemirror_mode": {
    "name": "ipython",
    "version": 3
   },
   "file_extension": ".py",
   "mimetype": "text/x-python",
   "name": "python",
   "nbconvert_exporter": "python",
   "pygments_lexer": "ipython3",
   "version": "3.8.5"
  }
 },
 "nbformat": 4,
 "nbformat_minor": 4
}
