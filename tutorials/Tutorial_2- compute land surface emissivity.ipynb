{
 "cells": [
  {
   "cell_type": "code",
   "execution_count": 1,
   "metadata": {},
   "outputs": [],
   "source": [
    "import sys\n",
    "sys.path.append('/Users/dimeji/Documents/Projects/geo_earth_temp/pylandtemp')"
   ]
  },
  {
   "cell_type": "markdown",
   "metadata": {},
   "source": [
    "**Land surface emissivity (LSE)** efficiency with which a surface radiates its thermal energy. In this notebook, I show you how you can obtain LSE using the pylandtemp module."
   ]
  },
  {
   "cell_type": "markdown",
   "metadata": {},
   "source": [
    "# 1.  Import python dependencies"
   ]
  },
  {
   "cell_type": "code",
   "execution_count": 2,
   "metadata": {},
   "outputs": [],
   "source": [
    "import numpy as np\n",
    "import matplotlib.pyplot as plt\n",
    "import rasterio.plot\n",
    "import rasterio"
   ]
  },
  {
   "cell_type": "markdown",
   "metadata": {},
   "source": [
    "# 2. Location"
   ]
  },
  {
   "cell_type": "markdown",
   "metadata": {},
   "source": [
    "For this tutorial, we’ll use the NIR and Red bands from a Landsat-8 scene above part of the central valley and the Sierra Nevada in California. We’ll be using Level 1TP datasets, orthorectified, map-projected images containing radiometrically calibrated data."
   ]
  },
  {
   "cell_type": "markdown",
   "metadata": {},
   "source": [
    "# 3. Bands needed from land surface emissivity computation\n",
    "- Red: Band 4\n",
    "- Near-Infrared (NIR): Band 5\n",
    "\n",
    "\n",
    "Here, I have used `rasterio` to load the images/bands needed."
   ]
  },
  {
   "cell_type": "code",
   "execution_count": 3,
   "metadata": {},
   "outputs": [],
   "source": [
    "url = 'http://landsat-pds.s3.amazonaws.com/c1/L8/042/034/LC08_L1TP_042034_20170616_20170629_01_T1/'\n",
    "#url = 'https://storage.googleapis.com/gcp-public-data-landsat/LC08/01/042/034/LC08_L1TP_042034_20170616_20170629_01_T1/'\n",
    "redband = 'LC08_L1TP_042034_20170616_20170629_01_T1_B{}.TIF'.format(4) # L1TP_216074_20160531_20180528_01_T1_B4.TIF'\n",
    "nirband = 'LC08_L1TP_042034_20170616_20170629_01_T1_B{}.TIF'.format(5)"
   ]
  },
  {
   "cell_type": "code",
   "execution_count": null,
   "metadata": {},
   "outputs": [],
   "source": [
    "with rasterio.open(url+redband) as src:\n",
    "    redImage = src.read(1).astype('f4')\n",
    "\n",
    "with rasterio.open(url+nirband) as src:\n",
    "    nirImage = src.read(1).astype('f4')"
   ]
  },
  {
   "cell_type": "markdown",
   "metadata": {},
   "source": [
    "### Visualize the Red and NIR band images"
   ]
  },
  {
   "cell_type": "code",
   "execution_count": null,
   "metadata": {},
   "outputs": [],
   "source": [
    "plt.imshow(redImage)\n",
    "plt.colorbar()\n",
    "plt.title('{}\\nNIR {}'.format(nirband, nirImage.shape))\n",
    "plt.xlabel('Column #')\n",
    "plt.ylabel('Row #')\n",
    "plt.show()\n",
    "\n",
    "\n",
    "plt.imshow(nirImage)\n",
    "plt.colorbar()\n",
    "plt.title('{}\\nRed {}'.format(redband, redImage.shape))\n",
    "plt.xlabel('Column #')\n",
    "plt.ylabel('Row #')\n",
    "plt.show()"
   ]
  },
  {
   "cell_type": "markdown",
   "metadata": {},
   "source": [
    "# 5. Compute the Normalized Difference Vegetation Index (NDVI) image from the Red and NIR images \n",
    "\n",
    "We need the NDVI (and in some cases) the red band image to obtain our emissivity image.\n",
    "The Normalized Difference Vegetation Index is a simple indicator that can be used to assess whether the target includes healthy vegetation. This calculation uses two bands of a multispectral image dataset, the Red and Near-Infrared (NIR) bands.\n",
    "\n",
    "This stage is only done here in the tutorial for completion. The `emissivity` module of `landtemp` handles the NDVI computation automatically. However, if you need to compute NDVI for other purposes you can follow the workflow below:"
   ]
  },
  {
   "cell_type": "code",
   "execution_count": null,
   "metadata": {},
   "outputs": [],
   "source": [
    "from pylandtemp import ndvi"
   ]
  },
  {
   "cell_type": "code",
   "execution_count": null,
   "metadata": {},
   "outputs": [],
   "source": [
    "mask = redImage == 0\n",
    "ndviImage = ndvi(nirImage, redImage, mask=mask)"
   ]
  },
  {
   "cell_type": "markdown",
   "metadata": {},
   "source": [
    "### Visualize NDVI"
   ]
  },
  {
   "cell_type": "code",
   "execution_count": null,
   "metadata": {},
   "outputs": [],
   "source": [
    "plt.imshow(ndviImage)\n",
    "plt.colorbar()\n",
    "plt.title('{}\\nRed {}'.format('NDVI', ndviImage.shape))\n",
    "plt.xlabel('Column #')\n",
    "plt.ylabel('Row #')\n",
    "plt.show()"
   ]
  },
  {
   "cell_type": "markdown",
   "metadata": {},
   "source": [
    "# 6. Compute land surface emissivity"
   ]
  },
  {
   "cell_type": "code",
   "execution_count": null,
   "metadata": {},
   "outputs": [],
   "source": [
    "from pylandtemp import emissivity"
   ]
  },
  {
   "cell_type": "markdown",
   "metadata": {},
   "source": [
    "The emissivity method to be used determines what images must be provided. Specifically, *band 4* (red band) image only needs to be provided for `xiaolei` method. The `landsat_band_4`of the emissivity function defaults to `None` otherwise and should be left as it is for other methods.\n",
    "\n",
    "Different emissivity images are obtained for the two thermal infrared bands. In the case that only one of them is needed, the first one can be taken or a mean can be obtained. The function always returns a tuple."
   ]
  },
  {
   "cell_type": "code",
   "execution_count": null,
   "metadata": {},
   "outputs": [],
   "source": [
    "emissivity_10, emissivity_11 = emissivity(ndviImage, emissivity_method='xiaolei', landsat_band_4=redImage)"
   ]
  },
  {
   "cell_type": "markdown",
   "metadata": {},
   "source": [
    "### Visualize the emissivity computed for thermal IR bands (10 and 11)"
   ]
  },
  {
   "cell_type": "code",
   "execution_count": null,
   "metadata": {},
   "outputs": [],
   "source": [
    "plt.imshow(emissivity_10)\n",
    "plt.colorbar()\n",
    "plt.title('{}\\n Emissivity {}'.format('For Band 10 thermal IR', emissivity_10.shape))\n",
    "plt.xlabel('Column #')\n",
    "plt.ylabel('Row #')\n",
    "plt.show()\n",
    "\n",
    "\n",
    "plt.imshow(emissivity_11)\n",
    "plt.colorbar()\n",
    "plt.title('{}\\n Emissivity {}'.format('For Band 11 thermal IR', emissivity_11.shape))\n",
    "plt.xlabel('Column #')\n",
    "plt.ylabel('Row #')\n",
    "plt.show()"
   ]
  },
  {
   "cell_type": "code",
   "execution_count": null,
   "metadata": {},
   "outputs": [],
   "source": []
  }
 ],
 "metadata": {
  "kernelspec": {
   "display_name": "Python 3",
   "language": "python",
   "name": "python3"
  },
  "language_info": {
   "codemirror_mode": {
    "name": "ipython",
    "version": 3
   },
   "file_extension": ".py",
   "mimetype": "text/x-python",
   "name": "python",
   "nbconvert_exporter": "python",
   "pygments_lexer": "ipython3",
   "version": "3.8.5"
  }
 },
 "nbformat": 4,
 "nbformat_minor": 4
}
