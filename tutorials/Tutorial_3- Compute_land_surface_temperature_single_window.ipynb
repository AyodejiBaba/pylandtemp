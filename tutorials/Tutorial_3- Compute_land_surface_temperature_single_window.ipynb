{
 "cells": [
  {
   "cell_type": "markdown",
   "metadata": {},
   "source": [
    "# 1.  Import python dependencies"
   ]
  },
  {
   "cell_type": "code",
   "execution_count": 1,
   "metadata": {},
   "outputs": [],
   "source": [
    "import sys\n",
    "sys.path.append('/Users/dimeji/Documents/Projects/geo_earth_temp/pylandtemp')"
   ]
  },
  {
   "cell_type": "code",
   "execution_count": 2,
   "metadata": {},
   "outputs": [],
   "source": [
    "import numpy as np\n",
    "import matplotlib.pyplot as plt\n",
    "import rasterio.plot\n",
    "import rasterio"
   ]
  },
  {
   "cell_type": "markdown",
   "metadata": {},
   "source": [
    "# 2. Location"
   ]
  },
  {
   "cell_type": "markdown",
   "metadata": {},
   "source": [
    "For this tutorial, we’ll use the NIR and Red bands from a Landsat-8 scene above part of the central valley and the Sierra Nevada in California. We’ll be using Level 1TP datasets, orthorectified, map-projected images containing radiometrically calibrated data."
   ]
  },
  {
   "cell_type": "markdown",
   "metadata": {},
   "source": [
    "# 3. Bands needed from land surface temperature computation using single window.\n",
    "\n",
    "- Red: Band 4\n",
    "- Near-Infrared (NIR): Band 5\n",
    "- Thermal infrared 1: Band 10\n",
    "\n",
    "Here, I have used `rasterio` package to load the images/bands needed."
   ]
  },
  {
   "cell_type": "code",
   "execution_count": 3,
   "metadata": {},
   "outputs": [],
   "source": [
    "url = 'http://landsat-pds.s3.amazonaws.com/c1/L8/042/034/LC08_L1TP_042034_20170616_20170629_01_T1/'\n",
    "redband = 'LC08_L1TP_042034_20170616_20170629_01_T1_B{}.TIF'.format(4) # L1TP_216074_20160531_20180528_01_T1_B4.TIF'\n",
    "nirband = 'LC08_L1TP_042034_20170616_20170629_01_T1_B{}.TIF'.format(5)\n",
    "tempband10 = 'LC08_L1TP_042034_20170616_20170629_01_T1_B{}.TIF'.format(10)"
   ]
  },
  {
   "cell_type": "code",
   "execution_count": 4,
   "metadata": {},
   "outputs": [],
   "source": [
    "with rasterio.open(url+redband) as src:\n",
    "    redImage = src.read(1).astype('f4')\n",
    "\n",
    "with rasterio.open(url+nirband) as src:\n",
    "    nirImage = src.read(1).astype('f4')\n",
    "    \n",
    "with rasterio.open(url+tempband10) as src:\n",
    "    tempImage10 = src.read(1).astype('f4')"
   ]
  },
  {
   "cell_type": "code",
   "execution_count": 5,
   "metadata": {},
   "outputs": [],
   "source": [
    "mask = tempImage10 == 0"
   ]
  },
  {
   "cell_type": "markdown",
   "metadata": {},
   "source": [
    "# 8. Compute land surface temperature"
   ]
  },
  {
   "cell_type": "code",
   "execution_count": 6,
   "metadata": {},
   "outputs": [],
   "source": [
    "from pylandtemp import single_window"
   ]
  },
  {
   "cell_type": "markdown",
   "metadata": {},
   "source": [
    "### Single window"
   ]
  },
  {
   "cell_type": "code",
   "execution_count": 7,
   "metadata": {},
   "outputs": [
    {
     "ename": "AttributeError",
     "evalue": "'NoneType' object has no attribute 'shape'",
     "output_type": "error",
     "traceback": [
      "\u001b[0;31m---------------------------------------------------------------------------\u001b[0m",
      "\u001b[0;31mAttributeError\u001b[0m                            Traceback (most recent call last)",
      "\u001b[0;32m<ipython-input-7-9fd3b0c450e9>\u001b[0m in \u001b[0;36m<module>\u001b[0;34m\u001b[0m\n\u001b[0;32m----> 1\u001b[0;31m \u001b[0mlst_image_single_window\u001b[0m \u001b[0;34m=\u001b[0m \u001b[0msingle_window\u001b[0m\u001b[0;34m(\u001b[0m\u001b[0mtempImage10\u001b[0m\u001b[0;34m,\u001b[0m \u001b[0mredImage\u001b[0m\u001b[0;34m,\u001b[0m \u001b[0mnirImage\u001b[0m\u001b[0;34m,\u001b[0m \u001b[0munit\u001b[0m\u001b[0;34m=\u001b[0m\u001b[0;34m'celcius'\u001b[0m\u001b[0;34m)\u001b[0m\u001b[0;34m\u001b[0m\u001b[0;34m\u001b[0m\u001b[0m\n\u001b[0m",
      "\u001b[0;32m~/Documents/Projects/geo_earth_temp/pylandtemp/pylandtemp/pylandtemp.py\u001b[0m in \u001b[0;36msingle_window\u001b[0;34m(landsat_band_10, landsat_band_4, landsat_band_5, lst_method, emissivity_method, unit)\u001b[0m\n\u001b[1;32m    123\u001b[0m     \u001b[0mmask\u001b[0m \u001b[0;34m=\u001b[0m \u001b[0mlandsat_band_10\u001b[0m \u001b[0;34m==\u001b[0m \u001b[0;36m0\u001b[0m\u001b[0;34m\u001b[0m\u001b[0;34m\u001b[0m\u001b[0m\n\u001b[1;32m    124\u001b[0m     \u001b[0mndvi_image\u001b[0m \u001b[0;34m=\u001b[0m \u001b[0mndvi\u001b[0m\u001b[0;34m(\u001b[0m\u001b[0mlandsat_band_5\u001b[0m\u001b[0;34m,\u001b[0m \u001b[0mlandsat_band_4\u001b[0m\u001b[0;34m,\u001b[0m \u001b[0mmask\u001b[0m\u001b[0;34m)\u001b[0m\u001b[0;34m\u001b[0m\u001b[0;34m\u001b[0m\u001b[0m\n\u001b[0;32m--> 125\u001b[0;31m     \u001b[0mbrightness_temp_10\u001b[0m\u001b[0;34m,\u001b[0m \u001b[0m_\u001b[0m \u001b[0;34m=\u001b[0m \u001b[0mbrightness_temperature\u001b[0m\u001b[0;34m(\u001b[0m\u001b[0mlandsat_band_10\u001b[0m\u001b[0;34m,\u001b[0m \u001b[0mmask\u001b[0m\u001b[0;34m=\u001b[0m\u001b[0mmask\u001b[0m\u001b[0;34m)\u001b[0m\u001b[0;34m\u001b[0m\u001b[0;34m\u001b[0m\u001b[0m\n\u001b[0m\u001b[1;32m    126\u001b[0m \u001b[0;34m\u001b[0m\u001b[0m\n\u001b[1;32m    127\u001b[0m     emissivity_10, _ = Runner(algorithms=emissivity_algorithms)(\n",
      "\u001b[0;32m~/Documents/Projects/geo_earth_temp/pylandtemp/pylandtemp/pylandtemp.py\u001b[0m in \u001b[0;36mbrightness_temperature\u001b[0;34m(landsat_band_10, landsat_band_11, mask)\u001b[0m\n\u001b[1;32m    215\u001b[0m         \u001b[0mnp\u001b[0m\u001b[0;34m.\u001b[0m\u001b[0mndarray\u001b[0m\u001b[0;34m:\u001b[0m \u001b[0mBrightness\u001b[0m \u001b[0mtemperature\u001b[0m \u001b[0mnumpy\u001b[0m \u001b[0marray\u001b[0m\u001b[0;34m\u001b[0m\u001b[0;34m\u001b[0m\u001b[0m\n\u001b[1;32m    216\u001b[0m     \"\"\"\n\u001b[0;32m--> 217\u001b[0;31m     \u001b[0;32mif\u001b[0m \u001b[0;32mnot\u001b[0m \u001b[0mlandsat_band_10\u001b[0m\u001b[0;34m.\u001b[0m\u001b[0mshape\u001b[0m \u001b[0;34m==\u001b[0m \u001b[0mlandsat_band_11\u001b[0m\u001b[0;34m.\u001b[0m\u001b[0mshape\u001b[0m\u001b[0;34m:\u001b[0m\u001b[0;34m\u001b[0m\u001b[0;34m\u001b[0m\u001b[0m\n\u001b[0m\u001b[1;32m    218\u001b[0m         raise InputShapesNotEqual(\n\u001b[1;32m    219\u001b[0m             \u001b[0;34mf\"Shapes of input images should be equal: {landsat_band_10.shape}, {landsat_band_11.shape}\"\u001b[0m\u001b[0;34m\u001b[0m\u001b[0;34m\u001b[0m\u001b[0m\n",
      "\u001b[0;31mAttributeError\u001b[0m: 'NoneType' object has no attribute 'shape'"
     ]
    }
   ],
   "source": [
    "lst_image_single_window = single_window(tempImage10, redImage, nirImage, unit='celcius')"
   ]
  },
  {
   "cell_type": "markdown",
   "metadata": {},
   "source": [
    "##### Visualize the  Land Surface Temperature obtained"
   ]
  },
  {
   "cell_type": "code",
   "execution_count": null,
   "metadata": {},
   "outputs": [],
   "source": [
    "plt.imshow(lst_image_single_window)\n",
    "plt.colorbar()\n",
    "plt.title('{}\\n LST in Kelvin {}'.format(f'Mono window method', lst_image_single_window.shape))\n",
    "plt.xlabel('Column #')\n",
    "plt.ylabel('Row #')\n",
    "plt.show()"
   ]
  }
 ],
 "metadata": {
  "kernelspec": {
   "display_name": "Python 3",
   "language": "python",
   "name": "python3"
  },
  "language_info": {
   "codemirror_mode": {
    "name": "ipython",
    "version": 3
   },
   "file_extension": ".py",
   "mimetype": "text/x-python",
   "name": "python",
   "nbconvert_exporter": "python",
   "pygments_lexer": "ipython3",
   "version": "3.8.5"
  }
 },
 "nbformat": 4,
 "nbformat_minor": 4
}
