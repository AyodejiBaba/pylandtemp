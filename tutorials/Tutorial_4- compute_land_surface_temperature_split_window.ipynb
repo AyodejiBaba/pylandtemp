{
 "cells": [
  {
   "cell_type": "code",
   "execution_count": 1,
   "metadata": {},
   "outputs": [],
   "source": [
    "import os, sys\n",
    "sys.path.append('/Users/dimeji/Documents/Projects/geo_earth_temp/getemp')"
   ]
  },
  {
   "cell_type": "markdown",
   "metadata": {},
   "source": [
    "# 1.  Import python dependencies"
   ]
  },
  {
   "cell_type": "code",
   "execution_count": 2,
   "metadata": {},
   "outputs": [],
   "source": [
    "import numpy as np\n",
    "import matplotlib.pyplot as plt\n",
    "import rasterio.plot\n",
    "import rasterio"
   ]
  },
  {
   "cell_type": "markdown",
   "metadata": {},
   "source": [
    "# 2. Location"
   ]
  },
  {
   "cell_type": "markdown",
   "metadata": {},
   "source": [
    "For this tutorial, we’ll use the NIR and Red bands from a Landsat-8 scene above part of the central valley and the Sierra Nevada in California. We’ll be using Level 1TP datasets, orthorectified, map-projected images containing radiometrically calibrated data."
   ]
  },
  {
   "cell_type": "markdown",
   "metadata": {},
   "source": [
    "# 3. Bands needed from land surface temperature computation (Split window)\n",
    "- Red: Band 4\n",
    "- Near-Infrared (NIR): Band 5\n",
    "- Thermal infrared 1: Band 10\n",
    "- Thermal infrared 2: Band 11\n",
    "\n",
    "Here, I have used `rasterio` to load the images/bands needed."
   ]
  },
  {
   "cell_type": "code",
   "execution_count": 3,
   "metadata": {},
   "outputs": [],
   "source": [
    "url = 'http://landsat-pds.s3.amazonaws.com/c1/L8/042/034/LC08_L1TP_042034_20170616_20170629_01_T1/'\n",
    "#url = 'https://storage.googleapis.com/gcp-public-data-landsat/LC08/01/042/034/LC08_L1TP_042034_20170616_20170629_01_T1/'\n",
    "redband = 'LC08_L1TP_042034_20170616_20170629_01_T1_B{}.TIF'.format(4) # L1TP_216074_20160531_20180528_01_T1_B4.TIF'\n",
    "nirband = 'LC08_L1TP_042034_20170616_20170629_01_T1_B{}.TIF'.format(5)\n",
    "tempband10 = 'LC08_L1TP_042034_20170616_20170629_01_T1_B{}.TIF'.format(10)\n",
    "tempband11 = 'LC08_L1TP_042034_20170616_20170629_01_T1_B{}.TIF'.format(11)"
   ]
  },
  {
   "cell_type": "code",
   "execution_count": 4,
   "metadata": {},
   "outputs": [],
   "source": [
    "with rasterio.open(url+redband) as src:\n",
    "    redImage = src.read(1).astype('f4')\n",
    "\n",
    "with rasterio.open(url+nirband) as src:\n",
    "    nirImage = src.read(1).astype('f4')\n",
    "    \n",
    "with rasterio.open(url+tempband10) as src:\n",
    "    tempImage10 = src.read(1).astype('f4')\n",
    "\n",
    "with rasterio.open(url+tempband11) as src:\n",
    "    tempImage11 = src.read(1).astype('f4')"
   ]
  },
  {
   "cell_type": "markdown",
   "metadata": {},
   "source": [
    "# 8. Compute land surface temperature"
   ]
  },
  {
   "cell_type": "code",
   "execution_count": 5,
   "metadata": {},
   "outputs": [],
   "source": [
    "from pylandtemp import split_window"
   ]
  },
  {
   "cell_type": "markdown",
   "metadata": {},
   "source": [
    "### Split window"
   ]
  },
  {
   "cell_type": "markdown",
   "metadata": {},
   "source": [
    "Available methods to choose from include:\n",
    "\n",
    "`'jiminez-munoz'`: Jiminez-Munoz et al, 2008 \n",
    "\n",
    "`'kerr'`: Kerr Y et al, 2004\n",
    "\n",
    "`'mc-millin'`: McMillin L. M. , 1975\n",
    "\n",
    "`'price'`: Price J. C., 1984\n",
    "\n",
    "`'sobrino-1993'`: Sobrino J. A. et al, 1993\n"
   ]
  },
  {
   "cell_type": "code",
   "execution_count": 6,
   "metadata": {},
   "outputs": [],
   "source": [
    "tempImage10 = tempImage10[2000:4000, 2000:4000]"
   ]
  },
  {
   "cell_type": "code",
   "execution_count": 7,
   "metadata": {},
   "outputs": [
    {
     "ename": "InputShapesNotEqual",
     "evalue": "Shapes of input images should be equal: {landsat_band_10.shape}, {landsat_band_5.shape}, {landsat_band_4.shape}",
     "output_type": "error",
     "traceback": [
      "\u001b[0;31m---------------------------------------------------------------------------\u001b[0m",
      "\u001b[0;31mInputShapesNotEqual\u001b[0m                       Traceback (most recent call last)",
      "\u001b[0;32m<ipython-input-7-fee8495bc170>\u001b[0m in \u001b[0;36m<module>\u001b[0;34m\u001b[0m\n\u001b[1;32m      1\u001b[0m \u001b[0mmethod\u001b[0m \u001b[0;34m=\u001b[0m \u001b[0;34m'price'\u001b[0m\u001b[0;34m\u001b[0m\u001b[0;34m\u001b[0m\u001b[0m\n\u001b[0;32m----> 2\u001b[0;31m lst_image_split_window = split_window(\n\u001b[0m\u001b[1;32m      3\u001b[0m                                 \u001b[0mtempImage10\u001b[0m\u001b[0;34m,\u001b[0m\u001b[0;34m\u001b[0m\u001b[0;34m\u001b[0m\u001b[0m\n\u001b[1;32m      4\u001b[0m                                 \u001b[0mtempImage11\u001b[0m\u001b[0;34m,\u001b[0m\u001b[0;34m\u001b[0m\u001b[0;34m\u001b[0m\u001b[0m\n\u001b[1;32m      5\u001b[0m                                 \u001b[0mredImage\u001b[0m\u001b[0;34m,\u001b[0m\u001b[0;34m\u001b[0m\u001b[0;34m\u001b[0m\u001b[0m\n",
      "\u001b[0;32m~/Documents/Projects/geo_earth_temp/getemp/pylandtemp/pylandtemp.py\u001b[0m in \u001b[0;36msplit_window\u001b[0;34m(landsat_band_10, landsat_band_11, landsat_band_4, landsat_band_5, lst_method, emissivity_method, unit)\u001b[0m\n\u001b[1;32m     54\u001b[0m         \u001b[0;34m==\u001b[0m \u001b[0mlandsat_band_4\u001b[0m\u001b[0;34m.\u001b[0m\u001b[0mshape\u001b[0m\u001b[0;34m\u001b[0m\u001b[0;34m\u001b[0m\u001b[0m\n\u001b[1;32m     55\u001b[0m     ):\n\u001b[0;32m---> 56\u001b[0;31m         raise InputShapesNotEqual(\n\u001b[0m\u001b[1;32m     57\u001b[0m             \u001b[0;34m\"Shapes of input images should be equal: {landsat_band_10.shape}, {landsat_band_5.shape}, {landsat_band_4.shape}\"\u001b[0m\u001b[0;34m\u001b[0m\u001b[0;34m\u001b[0m\u001b[0m\n\u001b[1;32m     58\u001b[0m         )\n",
      "\u001b[0;31mInputShapesNotEqual\u001b[0m: Shapes of input images should be equal: {landsat_band_10.shape}, {landsat_band_5.shape}, {landsat_band_4.shape}"
     ]
    }
   ],
   "source": [
    "method = 'price'\n",
    "lst_image_split_window = split_window(\n",
    "                                tempImage10, \n",
    "                                tempImage11, \n",
    "                                redImage, \n",
    "                                nirImage, \n",
    "                                lst_method=method, \n",
    "                                emissivity_method='avdan',\n",
    "                                unit='celcius'\n",
    "        )"
   ]
  },
  {
   "cell_type": "markdown",
   "metadata": {},
   "source": [
    "##### Visualize the  Land Surface Temperature obtained"
   ]
  },
  {
   "cell_type": "code",
   "execution_count": null,
   "metadata": {},
   "outputs": [],
   "source": [
    "plt.imshow(lst_image_split_window)\n",
    "plt.colorbar()\n",
    "plt.title('{}\\n LST in Celcius {}'.format(f'{method} method', lst_image_split_window.shape))\n",
    "plt.xlabel('Column #')\n",
    "plt.ylabel('Row #')\n",
    "plt.show()"
   ]
  },
  {
   "cell_type": "code",
   "execution_count": null,
   "metadata": {},
   "outputs": [],
   "source": []
  }
 ],
 "metadata": {
  "kernelspec": {
   "display_name": "Python 3",
   "language": "python",
   "name": "python3"
  },
  "language_info": {
   "codemirror_mode": {
    "name": "ipython",
    "version": 3
   },
   "file_extension": ".py",
   "mimetype": "text/x-python",
   "name": "python",
   "nbconvert_exporter": "python",
   "pygments_lexer": "ipython3",
   "version": "3.8.5"
  }
 },
 "nbformat": 4,
 "nbformat_minor": 4
}
