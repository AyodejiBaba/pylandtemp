{
 "cells": [
  {
   "cell_type": "markdown",
   "metadata": {},
   "source": [
    "Before running this notebook, run this command in your terminal `pip install pylandtemp` or simply copy and paste this `!pip install pylandtemp` into a cell and run"
   ]
  },
  {
   "cell_type": "markdown",
   "metadata": {},
   "source": [
    "# 1.  Import python dependencies"
   ]
  },
  {
   "cell_type": "code",
   "execution_count": 1,
   "metadata": {},
   "outputs": [],
   "source": [
    "import numpy as np\n",
    "import matplotlib.pyplot as plt\n",
    "from matplotlib.pyplot import figure\n",
    "import rasterio.plot\n",
    "import rasterio"
   ]
  },
  {
   "cell_type": "markdown",
   "metadata": {},
   "source": [
    "# 2. Location"
   ]
  },
  {
   "cell_type": "markdown",
   "metadata": {},
   "source": [
    "For this tutorial, we’ll use the NIR and Red bands from a Landsat-8 scene above part of the central valley and the Sierra Nevada in California. We’ll be using Level 1TP datasets, orthorectified, map-projected images containing radiometrically calibrated data."
   ]
  },
  {
   "cell_type": "markdown",
   "metadata": {},
   "source": [
    "## Load RGB images towards true color visualization"
   ]
  },
  {
   "cell_type": "code",
   "execution_count": null,
   "metadata": {},
   "outputs": [],
   "source": [
    "# Amazon. cloud image folder\n",
    "url = 'http://landsat-pds.s3.amazonaws.com/c1/L8/042/034/LC08_L1TP_042034_20170616_20170629_01_T1/'\n",
    "\n",
    "# RGB images file names with file extensions\n",
    "redband = 'LC08_L1TP_042034_20170616_20170629_01_T1_B{}.TIF'.format(4) \n",
    "greenband = 'LC08_L1TP_042034_20170616_20170629_01_T1_B{}.TIF'.format(3)\n",
    "blueband = 'LC08_L1TP_042034_20170616_20170629_01_T1_B{}.TIF'.format(2)\n",
    "\n",
    "with rasterio.open(url+redband) as src:\n",
    "    redImage = src.read(1).astype('f4')\n",
    "\n",
    "with rasterio.open(url+greenband) as src:\n",
    "    greenImage = src.read(1).astype('f4')\n",
    "    \n",
    "with rasterio.open(url+blueband) as src:\n",
    "    blueImage = src.read(1).astype('f4')"
   ]
  },
  {
   "cell_type": "code",
   "execution_count": null,
   "metadata": {},
   "outputs": [],
   "source": [
    "rgb_image = np.concatenate(\n",
    "    (np.expand_dims(redImage, axis=0), \n",
    "    np.expand_dims(greenImage, axis=0), \n",
    "    np.expand_dims(blueImage, axis=0)),\n",
    "    axis=0\n",
    ")"
   ]
  },
  {
   "cell_type": "code",
   "execution_count": null,
   "metadata": {},
   "outputs": [],
   "source": [
    "normed_rgb = rgb_image  / np.max(rgb_image)"
   ]
  },
  {
   "cell_type": "markdown",
   "metadata": {},
   "source": [
    "## Get get map view of location"
   ]
  },
  {
   "cell_type": "code",
   "execution_count": null,
   "metadata": {},
   "outputs": [],
   "source": [
    "from rasterio.plot import show\n",
    "\n",
    "\n",
    "figure(figsize = (20, 6), dpi = 80)\n",
    "show(normed_rgb)"
   ]
  },
  {
   "cell_type": "markdown",
   "metadata": {},
   "source": [
    "We can see here that there is some snowy mountain range that crosses that top left to bottom right of the image. We expect the temperature to be low on this snowy surface"
   ]
  },
  {
   "cell_type": "markdown",
   "metadata": {},
   "source": [
    "# 3. Bands needed from land surface temperature computation (Split window)\n",
    "- Red: Band 4\n",
    "- Near-Infrared (NIR): Band 5\n",
    "- Thermal infrared 1: Band 10\n",
    "- Thermal infrared 2: Band 11\n",
    "\n",
    "Read band has already been loaded above\n",
    "\n",
    "Here, I have used `rasterio` to load the images/bands needed."
   ]
  },
  {
   "cell_type": "code",
   "execution_count": null,
   "metadata": {},
   "outputs": [],
   "source": [
    "nirband = 'LC08_L1TP_042034_20170616_20170629_01_T1_B{}.TIF'.format(5)\n",
    "tempband10 = 'LC08_L1TP_042034_20170616_20170629_01_T1_B{}.TIF'.format(10)\n",
    "tempband11 = 'LC08_L1TP_042034_20170616_20170629_01_T1_B{}.TIF'.format(11)"
   ]
  },
  {
   "cell_type": "code",
   "execution_count": null,
   "metadata": {},
   "outputs": [],
   "source": [
    "with rasterio.open(url+nirband) as src:\n",
    "    nirImage = src.read(1).astype('f4')\n",
    "    \n",
    "with rasterio.open(url+tempband10) as src:\n",
    "    tempImage10 = src.read(1).astype('f4')\n",
    "\n",
    "with rasterio.open(url+tempband11) as src:\n",
    "    tempImage11 = src.read(1).astype('f4')"
   ]
  },
  {
   "cell_type": "markdown",
   "metadata": {},
   "source": [
    "# 8. Compute land surface temperature"
   ]
  },
  {
   "cell_type": "code",
   "execution_count": null,
   "metadata": {},
   "outputs": [],
   "source": [
    "from pylandtemp import split_window"
   ]
  },
  {
   "cell_type": "markdown",
   "metadata": {},
   "source": [
    "### Split window"
   ]
  },
  {
   "cell_type": "markdown",
   "metadata": {},
   "source": [
    "Available methods to choose from include:\n",
    "\n",
    "`'jiminez-munoz'`: Jiminez-Munoz et al, 2008 \n",
    "\n",
    "`'kerr'`: Kerr Y et al, 2004\n",
    "\n",
    "`'mc-clain'`: McMillin L. M. , 1975\n",
    "\n",
    "`'price'`: Price J. C., 1984\n",
    "\n",
    "`'sobrino-1993'`: Sobrino J. A. et al, 1993\n"
   ]
  },
  {
   "cell_type": "code",
   "execution_count": null,
   "metadata": {},
   "outputs": [],
   "source": [
    "method = 'jiminez-munoz'\n",
    "lst_image_split_window = split_window(\n",
    "    tempImage10, \n",
    "    tempImage11, \n",
    "    redImage, \n",
    "    nirImage, \n",
    "    lst_method=method, \n",
    "    emissivity_method='avdan',\n",
    "    unit='celcius'\n",
    ")"
   ]
  },
  {
   "cell_type": "markdown",
   "metadata": {},
   "source": [
    "##### Visualize the  Land Surface Temperature obtained"
   ]
  },
  {
   "cell_type": "code",
   "execution_count": null,
   "metadata": {},
   "outputs": [],
   "source": [
    "plt.imshow(lst_image_split_window, cmap='viridis')\n",
    "plt.colorbar()\n",
    "plt.title('{}\\n LST in Celcius {}'.format(f'{method} method', lst_image_split_window.shape))\n",
    "plt.xlabel('Column #')\n",
    "plt.ylabel('Row #')\n",
    "plt.show()"
   ]
  },
  {
   "cell_type": "code",
   "execution_count": null,
   "metadata": {},
   "outputs": [],
   "source": []
  }
 ],
 "metadata": {
  "kernelspec": {
   "display_name": "Python 3",
   "language": "python",
   "name": "python3"
  },
  "language_info": {
   "codemirror_mode": {
    "name": "ipython",
    "version": 3
   },
   "file_extension": ".py",
   "mimetype": "text/x-python",
   "name": "python",
   "nbconvert_exporter": "python",
   "pygments_lexer": "ipython3",
   "version": "3.8.5"
  }
 },
 "nbformat": 4,
 "nbformat_minor": 4
}
